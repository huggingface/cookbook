{
 "cells": [
  {
   "cell_type": "markdown",
   "id": "97bf8340-2c4f-4b32-9a64-5b8ed2d6247f",
   "metadata": {},
   "source": [
    "# Vision Transformer Modelini Özel Bir Biyomedikal Verisetiyle Fine-Tune Etmek\n",
    "_Yazar: [Emre Albayrak](https://github.com/emre570)_\n",
    "_Çevirmen: [Onuralp Sezer](https://github.com/onuralpszr)_\n",
    "\n",
    "Bu rehber, Vision Transformer (ViT) modelini özel bir biyomedikal verisetiyle fine-tune etmek için izlenmesi gereken adımları açıklamaktadır. Verisetini yükleme ve hazırlama, farklı veri bölümleri için görüntü dönüşümlerini ayarlama, ViT modelini yapılandırma ve başlatma, ayrıca eğitim sürecini değerlendirme ve görselleştirme araçlarıyla tanımlama adımlarını içermektedir.\n",
    "\n",
    "## Veriseti Bilgisi\n",
    "Özel veriseti elle oluşturulmuş olup, 780 görüntü ve 3 sınıf içermektedir (iyi huylu, kötü huylu, normal).\n",
    "\n",
    "![attachment:datasetinfo.png](https://huggingface.co/datasets/huggingface/cookbook-images/resolve/102d6c23e6cc24db857fbc60186461ded6cdfb75/datasetinfo.png)\n",
    "\n",
    "## Model Bilgisi\n",
    "Fine-tune edilecek model, Google'ın [`\"vit-large-patch16-224\"`](https://huggingface.co/google/vit-large-patch16-224) modelidir. Model, ImageNet-21k (14M görüntü, 21.843 sınıf) üzerinde eğitilmiş ve ImageNet 2012 (1M görüntü, 1.000 sınıf) üzerinde 224x224 çözünürlükte fine-tune edilmiştir. Google, farklı görüntü boyutları ve yama boyutlarına sahip çeşitli ViT modellerine sahiptir.\n",
    "\n",
    "Hadi başlayalım!"
   ]
  },
  {
   "cell_type": "markdown",
   "id": "3cc02613-7bc6-4cd8-aa97-a21ba1970027",
   "metadata": {},
   "source": [
    "## Başlarken\n",
    "Öncelikle, gerekli python kütüphanelerini yükleyerek başlayalım. "
   ]
  },
  {
   "cell_type": "code",
   "execution_count": null,
   "id": "7093dd4f-d0cb-44dc-935d-d54435187901",
   "metadata": {},
   "outputs": [],
   "source": [
    "!pip install datasets transformers accelerate torch torchvision scikit-learn matplotlib wandb huggingface-hub"
   ]
  },
  {
   "cell_type": "markdown",
   "id": "9b5019a8-d130-4c08-9503-cd8415f50ae9",
   "metadata": {},
   "source": [
    "_(İsteğe Bağlı)_ Modelimizi Hugging Face Hub'a yükleyeceğimiz için giriş yapmamız gerekiyor.  "
   ]
  },
  {
   "cell_type": "code",
   "execution_count": 2,
   "id": "3d5acb41-a225-44a5-8c8f-f212c615008f",
   "metadata": {},
   "outputs": [
    {
     "data": {
      "application/vnd.jupyter.widget-view+json": {
       "model_id": "4a75a73de5234297a7e0e4e070eee6d9",
       "version_major": 2,
       "version_minor": 0
      },
      "text/plain": [
       "VBox(children=(HTML(value='<center> <img\\nsrc=https://huggingface.co/front/assets/huggingface_logo-noborder.sv…"
      ]
     },
     "metadata": {},
     "output_type": "display_data"
    }
   ],
   "source": [
    "from huggingface_hub import notebook_login\n",
    "notebook_login()"
   ]
  },
  {
   "cell_type": "markdown",
   "id": "80f2b730-ff8a-4d76-9baa-41c35b80fd38",
   "metadata": {},
   "source": [
    "## Verisetini Hazırlamak\n",
    "\n",
    "_Datasets_ kütüphanesi, verisetinden görüntüleri ve sınıfları otomatik olarak çeker. Detaylı bilgi için [`bu bağlantıyı`](https://huggingface.co/docs/datasets/image_load) ziyaret edebilirsiniz."
   ]
  },
  {
   "cell_type": "code",
   "execution_count": 3,
   "id": "f6e69664-1bb0-4ee4-932c-2f108550bfba",
   "metadata": {},
   "outputs": [
    {
     "data": {
      "text/plain": [
       "DatasetDict({\n",
       "    train: Dataset({\n",
       "        features: ['image', 'label'],\n",
       "        num_rows: 624\n",
       "    })\n",
       "    test: Dataset({\n",
       "        features: ['image', 'label'],\n",
       "        num_rows: 156\n",
       "    })\n",
       "})"
      ]
     },
     "execution_count": 3,
     "metadata": {},
     "output_type": "execute_result"
    }
   ],
   "source": [
    "from datasets import load_dataset\n",
    "\n",
    "dataset = load_dataset(\"emre570/breastcancer-ultrasound-images\")\n",
    "dataset"
   ]
  },
  {
   "cell_type": "markdown",
   "id": "bf3176b2-65ff-44ea-bb1e-cd75b2d7609d",
   "metadata": {},
   "source": [
    "Verisetimizi aldık. Ancak elimizde bir doğrulama seti yok. Doğrulama setini oluşturmak için, test setinin boyutuna dayalı olarak eğitim setinin bir kısmını doğrulama seti olarak ayıracağız. Daha sonra, eğitim verisetini yeni eğitim ve doğrulama alt altsetlere böleceğiz."
   ]
  },
  {
   "cell_type": "code",
   "execution_count": 4,
   "id": "4d385bab-dad0-462d-9339-11205fcd2e63",
   "metadata": {},
   "outputs": [
    {
     "data": {
      "text/plain": [
       "DatasetDict({\n",
       "    train: Dataset({\n",
       "        features: ['image', 'label'],\n",
       "        num_rows: 468\n",
       "    })\n",
       "    test: Dataset({\n",
       "        features: ['image', 'label'],\n",
       "        num_rows: 156\n",
       "    })\n",
       "})"
      ]
     },
     "execution_count": 4,
     "metadata": {},
     "output_type": "execute_result"
    }
   ],
   "source": [
    "# Her setin sayısını alalım\n",
    "test_num = len(dataset[\"test\"])\n",
    "train_num = len(dataset[\"train\"])\n",
    "\n",
    "val_size = test_num / train_num\n",
    "\n",
    "train_val_split = dataset[\"train\"].train_test_split(test_size=val_size)\n",
    "train_val_split"
   ]
  },
  {
   "cell_type": "markdown",
   "id": "7dacfc60-6262-4e91-b9e9-e2af43210fde",
   "metadata": {},
   "source": [
    "Ayrılmış test setimizi aldım. Şimdi test seti ile birleştirelim"
   ]
  },
  {
   "cell_type": "code",
   "execution_count": 5,
   "id": "b43bf130-49ad-4a4d-8230-436649045a16",
   "metadata": {},
   "outputs": [
    {
     "data": {
      "text/plain": [
       "DatasetDict({\n",
       "    train: Dataset({\n",
       "        features: ['image', 'label'],\n",
       "        num_rows: 468\n",
       "    })\n",
       "    validation: Dataset({\n",
       "        features: ['image', 'label'],\n",
       "        num_rows: 156\n",
       "    })\n",
       "    test: Dataset({\n",
       "        features: ['image', 'label'],\n",
       "        num_rows: 156\n",
       "    })\n",
       "})"
      ]
     },
     "execution_count": 5,
     "metadata": {},
     "output_type": "execute_result"
    }
   ],
   "source": [
    "from datasets import DatasetDict\n",
    "\n",
    "dataset = DatasetDict({\n",
    "    \"train\": train_val_split[\"train\"],\n",
    "    \"validation\": train_val_split[\"test\"],\n",
    "    \"test\": dataset[\"test\"]\n",
    "})\n",
    "dataset"
   ]
  },
  {
   "cell_type": "markdown",
   "id": "4a0d7a89-099e-4925-97a5-51c91cdb7046",
   "metadata": {},
   "source": [
    "Harika, Verisetimiz hazır olduğuna göre şimdi alt setleri farklı değişkenlere tanımlayarak kolay şekilde kullanabiliriz."
   ]
  },
  {
   "cell_type": "code",
   "execution_count": 6,
   "id": "9462e82b-0a12-4b0c-b73e-8dba76041ee6",
   "metadata": {},
   "outputs": [],
   "source": [
    "train_ds = dataset['train']\n",
    "val_ds = dataset['validation']\n",
    "test_ds = dataset['test']"
   ]
  },
  {
   "cell_type": "markdown",
   "id": "27e5451f-e2fb-4d29-b63a-a8960686dcc2",
   "metadata": {},
   "source": [
    "Şimdi verisetimizdeki resimlerin türünün `PIL.Image` olduğunu, ilk resme bakarak doğrulayabiliriz."
   ]
  },
  {
   "cell_type": "code",
   "execution_count": 7,
   "id": "1d8ffe26-f128-4f63-962e-56349d45ff23",
   "metadata": {},
   "outputs": [
    {
     "data": {
      "text/plain": [
       "{'image': <PIL.PngImagePlugin.PngImageFile image mode=RGB size=460x391>,\n",
       " 'label': 0}"
      ]
     },
     "execution_count": 7,
     "metadata": {},
     "output_type": "execute_result"
    }
   ],
   "source": [
    "train_ds[0]"
   ]
  },
  {
   "cell_type": "markdown",
   "id": "384a09b0-1c47-411f-b91a-00acdd88b06b",
   "metadata": {},
   "source": [
    "Eğitim setinin özelliklerini ayrıca görebiliriz."
   ]
  },
  {
   "cell_type": "code",
   "execution_count": 8,
   "id": "1e09647b-44e9-4f5f-800c-c333b0523b85",
   "metadata": {},
   "outputs": [
    {
     "data": {
      "text/plain": [
       "{'image': Image(mode=None, decode=True, id=None),\n",
       " 'label': ClassLabel(names=['benign', 'malignant', 'normal'], id=None)}"
      ]
     },
     "execution_count": 8,
     "metadata": {},
     "output_type": "execute_result"
    }
   ],
   "source": [
    "train_ds.features"
   ]
  },
  {
   "cell_type": "markdown",
   "id": "a3fedab5-0e80-492c-9408-f629b230351d",
   "metadata": {},
   "source": [
    "Şimdi veriseti içindeki her sınıftan bir tane resim gösterelim."
   ]
  },
  {
   "cell_type": "code",
   "execution_count": 9,
   "id": "5c901865-a876-4b4b-b1f2-8895b494cafb",
   "metadata": {},
   "outputs": [
    {
     "data": {
      "image/png": "[encoded data removed]",
      "text/plain": [
       "<Figure size 1000x1000 with 3 Axes>"
      ]
     },
     "metadata": {},
     "output_type": "display_data"
    }
   ],
   "source": [
    "import matplotlib.pyplot as plt\n",
    "\n",
    "# Initialize a set to keep track of shown labels\n",
    "shown_labels = set()\n",
    "\n",
    "# Initialize the figure for plotting\n",
    "plt.figure(figsize=(10, 10))\n",
    "\n",
    "# Loop through the dataset and plot the first image of each label\n",
    "for i, sample in enumerate(train_ds):\n",
    "    label = train_ds.features['label'].names[sample['label']]\n",
    "    if label not in shown_labels:\n",
    "        plt.subplot(1, len(train_ds.features['label'].names), len(shown_labels) + 1)\n",
    "        plt.imshow(sample['image'])\n",
    "        plt.title(label)\n",
    "        plt.axis('off')\n",
    "        shown_labels.add(label)\n",
    "        if len(shown_labels) == len(train_ds.features['label'].names):\n",
    "            break\n",
    "\n",
    "plt.show()"
   ]
  },
  {
   "cell_type": "markdown",
   "id": "0300a4b7-4f8f-4155-bad8-42df6673eddc",
   "metadata": {},
   "source": [
    "## Veri İşleme  \n",
    "Veriseti hazır, ancak fine-tuning için henüz hazır değiliz. Aşağıdaki adımları sırasıyla takip edeceğiz:  \n",
    "\n",
    "- **Etiket Eşleme:** Model eğitimi ve değerlendirmesi sırasında faydalı olacak şekilde, etiket kimliklerini (ID) ve bunların karşılık gelen isimlerini dönüştüreceğiz.  \n",
    "\n",
    "- **Görüntü İşleme:** Daha sonra, `ViTImageProcessor` kullanarak giriş görüntü boyutlarını standartlaştıracağız ve önceden eğitilmiş modele özgü normalizasyon uygulayacağız. Ayrıca, torchvision kullanarak eğitim, doğrulama ve test için farklı dönüşümler tanımlayarak model genellemesini geliştireceğiz.  \n",
    "\n",
    "- **Dönüşüm Fonksiyonları:** ViT modeline uygun format ve boyutlara dönüştürerek verisetine bu dönüşümleri uygulayan fonksiyonlar implement edeceğiz.  \n",
    "\n",
    "- **Veri Yükleme:** Görüntü ve etiketleri uygun şekilde gruplamak için özel bir collate fonksiyonu tanımlayacak ve model eğitimi sırasında verimli yükleme ve gruplama için bir DataLoader oluşturacağız.  \n",
    "\n",
    "- **Batch Hazırlığı:** Örnek bir batch'in veri şekil bilgilerini alacak ve görüntüleyerek işlemenin doğru yapıldığını ve model girişine hazır olduğunu doğrulayacağız.  \n"
   ]
  },
  {
   "cell_type": "markdown",
   "id": "1463c15d-5b73-47dc-8113-a910e3cd38b9",
   "metadata": {},
   "source": [
    "### Etiket Eşleme"
   ]
  },
  {
   "cell_type": "code",
   "execution_count": 10,
   "id": "43a6187f-0ba0-4cd9-a9ec-f06fca3a91bf",
   "metadata": {},
   "outputs": [
    {
     "data": {
      "text/plain": [
       "({0: 'benign', 1: 'malignant', 2: 'normal'}, 'benign')"
      ]
     },
     "execution_count": 10,
     "metadata": {},
     "output_type": "execute_result"
    }
   ],
   "source": [
    "id2label = {id:label for id, label in enumerate(train_ds.features['label'].names)}\n",
    "label2id = {label:id for id,label in id2label.items()}\n",
    "id2label, id2label[train_ds[0]['label']]"
   ]
  },
  {
   "cell_type": "markdown",
   "id": "0be0b208-5aad-48ff-97f5-ea484cfc8ad7",
   "metadata": {},
   "source": [
    "### Görüntü İşleme"
   ]
  },
  {
   "cell_type": "code",
   "execution_count": 11,
   "id": "a2d04160-93aa-425e-a06d-58c09ec6ffbd",
   "metadata": {},
   "outputs": [],
   "source": [
    "from transformers import ViTImageProcessor\n",
    "\n",
    "model_name = \"google/vit-large-patch16-224\"\n",
    "processor = ViTImageProcessor.from_pretrained(model_name)"
   ]
  },
  {
   "cell_type": "code",
   "execution_count": 12,
   "id": "136d114f-a054-467e-a034-cdddf9bf574b",
   "metadata": {},
   "outputs": [],
   "source": [
    "from torchvision.transforms import CenterCrop, Compose, Normalize, RandomHorizontalFlip, RandomResizedCrop, ToTensor, Resize\n",
    "\n",
    "image_mean, image_std = processor.image_mean, processor.image_std\n",
    "size = processor.size[\"height\"]\n",
    "\n",
    "normalize = Normalize(mean=image_mean, std=image_std)\n",
    "\n",
    "train_transforms = Compose([        \n",
    "    RandomResizedCrop(size),\n",
    "    RandomHorizontalFlip(),\n",
    "    ToTensor(),\n",
    "    normalize,\n",
    "])\n",
    "val_transforms = Compose([\n",
    "    Resize(size),\n",
    "    CenterCrop(size),\n",
    "    ToTensor(),\n",
    "    normalize,\n",
    "])\n",
    "test_transforms = Compose([\n",
    "    Resize(size),\n",
    "    CenterCrop(size),\n",
    "    ToTensor(),\n",
    "    normalize,\n",
    "])"
   ]
  },
  {
   "cell_type": "markdown",
   "id": "9e910499-84bf-4672-bbf0-ca78915b2821",
   "metadata": {},
   "source": [
    "### Dönüşüm fonksiyonlarını oluşturma"
   ]
  },
  {
   "cell_type": "code",
   "execution_count": 13,
   "id": "5ddc7ad4-bd09-4c76-ac00-ca7dafbd8417",
   "metadata": {},
   "outputs": [],
   "source": [
    "def apply_train_transforms(examples):\n",
    "    examples['pixel_values'] = [train_transforms(image.convert(\"RGB\")) for image in examples['image']]\n",
    "    return examples\n",
    "\n",
    "def apply_val_transforms(examples):\n",
    "    examples['pixel_values'] = [val_transforms(image.convert(\"RGB\")) for image in examples['image']]\n",
    "    return examples\n",
    "\n",
    "def apply_test_transforms(examples):\n",
    "    examples['pixel_values'] = [val_transforms(image.convert(\"RGB\")) for image in examples['image']]\n",
    "    return examples"
   ]
  },
  {
   "cell_type": "markdown",
   "id": "1ac74835-f883-46a3-877c-26265b27a325",
   "metadata": {},
   "source": [
    "### Dönüşüm fonksiyonlarını her bir sete uygulayalım"
   ]
  },
  {
   "cell_type": "code",
   "execution_count": 14,
   "id": "45f2b765-5258-4b44-b2ce-6bff952bdd1b",
   "metadata": {},
   "outputs": [],
   "source": [
    "train_ds.set_transform(apply_train_transforms)\n",
    "val_ds.set_transform(apply_val_transforms)\n",
    "test_ds.set_transform(apply_test_transforms)"
   ]
  },
  {
   "cell_type": "code",
   "execution_count": 15,
   "id": "ce586ef6-5f48-4554-8dc4-48797a977674",
   "metadata": {},
   "outputs": [
    {
     "data": {
      "text/plain": [
       "{'image': Image(mode=None, decode=True, id=None),\n",
       " 'label': ClassLabel(names=['benign', 'malignant', 'normal'], id=None)}"
      ]
     },
     "execution_count": 15,
     "metadata": {},
     "output_type": "execute_result"
    }
   ],
   "source": [
    "train_ds.features"
   ]
  },
  {
   "cell_type": "code",
   "execution_count": 16,
   "id": "731fccb7-7311-4175-8ce1-67141a662b1e",
   "metadata": {},
   "outputs": [
    {
     "data": {
      "text/plain": [
       "{'image': <PIL.PngImagePlugin.PngImageFile image mode=RGB size=460x391>,\n",
       " 'label': 0,\n",
       " 'pixel_values': tensor([[[-0.2000, -0.1765, -0.1529,  ..., -0.3098, -0.3490, -0.3412],\n",
       "          [-0.2471, -0.2392, -0.2471,  ..., -0.2392, -0.2235, -0.2000],\n",
       "          [-0.3255, -0.3412, -0.3647,  ..., -0.1765, -0.1608, -0.1529],\n",
       "          ...,\n",
       "          [-0.7333, -0.7412, -0.7647,  ..., -0.7490, -0.7647, -0.7725],\n",
       "          [-0.7255, -0.7176, -0.7333,  ..., -0.7882, -0.7804, -0.7882],\n",
       "          [-0.7412, -0.7333, -0.7412,  ..., -0.7804, -0.7725, -0.7804]],\n",
       " \n",
       "         [[-0.2000, -0.1765, -0.1529,  ..., -0.3098, -0.3490, -0.3412],\n",
       "          [-0.2471, -0.2392, -0.2471,  ..., -0.2392, -0.2235, -0.2000],\n",
       "          [-0.3255, -0.3412, -0.3647,  ..., -0.1765, -0.1608, -0.1529],\n",
       "          ...,\n",
       "          [-0.7333, -0.7412, -0.7647,  ..., -0.7490, -0.7647, -0.7725],\n",
       "          [-0.7255, -0.7176, -0.7333,  ..., -0.7882, -0.7804, -0.7882],\n",
       "          [-0.7412, -0.7333, -0.7412,  ..., -0.7804, -0.7725, -0.7804]],\n",
       " \n",
       "         [[-0.2000, -0.1765, -0.1529,  ..., -0.3098, -0.3490, -0.3412],\n",
       "          [-0.2471, -0.2392, -0.2471,  ..., -0.2392, -0.2235, -0.2000],\n",
       "          [-0.3255, -0.3412, -0.3647,  ..., -0.1765, -0.1608, -0.1529],\n",
       "          ...,\n",
       "          [-0.7333, -0.7412, -0.7647,  ..., -0.7490, -0.7647, -0.7725],\n",
       "          [-0.7255, -0.7176, -0.7333,  ..., -0.7882, -0.7804, -0.7882],\n",
       "          [-0.7412, -0.7333, -0.7412,  ..., -0.7804, -0.7725, -0.7804]]])}"
      ]
     },
     "execution_count": 16,
     "metadata": {},
     "output_type": "execute_result"
    }
   ],
   "source": [
    "train_ds[0]"
   ]
  },
  {
   "cell_type": "markdown",
   "id": "49b06fa4-6f28-4e45-8af4-779c424583fe",
   "metadata": {},
   "source": [
    "Bu işlem ile görüldüğü üzere piksel değerlerini tensorlara dönüştürmüş oluyoruz.\n",
    "\n",
    "### Veri Yükleme (DataLoader)"
   ]
  },
  {
   "cell_type": "code",
   "execution_count": 17,
   "id": "3f47f263-2046-4847-952d-728fa3fe5cf4",
   "metadata": {},
   "outputs": [],
   "source": [
    "import torch\n",
    "from torch.utils.data import DataLoader\n",
    "\n",
    "def collate_fn(examples):\n",
    "    pixel_values = torch.stack([example[\"pixel_values\"] for example in examples])\n",
    "    labels = torch.tensor([example[\"label\"] for example in examples])\n",
    "    return {\"pixel_values\": pixel_values, \"labels\": labels}\n",
    "\n",
    "train_dl = DataLoader(train_ds, collate_fn=collate_fn, batch_size=4)"
   ]
  },
  {
   "cell_type": "markdown",
   "id": "aed986b0-e661-4c57-ad58-4fa73d795828",
   "metadata": {},
   "source": [
    "### Batch Hazırlığı"
   ]
  },
  {
   "cell_type": "code",
   "execution_count": 18,
   "id": "14c6d3f8-48e6-423f-8193-7571f986f103",
   "metadata": {},
   "outputs": [
    {
     "name": "stdout",
     "output_type": "stream",
     "text": [
      "pixel_values torch.Size([4, 3, 224, 224])\n",
      "labels torch.Size([4])\n"
     ]
    }
   ],
   "source": [
    "batch = next(iter(train_dl))\n",
    "for k,v in batch.items():\n",
    "  if isinstance(v, torch.Tensor):\n",
    "    print(k, v.shape)"
   ]
  },
  {
   "cell_type": "markdown",
   "id": "35379d35-e567-4a30-8b91-6eac80b79044",
   "metadata": {},
   "source": [
    "Harika! Şimdi fine-tuning işlemi için hazırız."
   ]
  },
  {
   "cell_type": "markdown",
   "id": "45056d5e-8bca-4ece-b29b-bc772aeef49f",
   "metadata": {},
   "source": [
    "## Modeli Fine-Tune Etme  \n",
    "\n",
    "Şimdi modeli yapılandırıp fine-tune edeceğiz. İlk olarak, modeli belirli etiket eşlemeleri ve önceden eğitilmiş ayarlarla başlatarak boyut uyuşmazlıklarını ayarlıyoruz. Eğitim parametreleri, modelin öğrenme sürecini tanımlamak için ayarlandı; bu parametreler arasında kaydetme stratejisi, batch boyutları ve eğitim epoch'ları yer alıyor ve sonuçlar Weights & Biases aracılığıyla kaydediliyor. Ardından, Hugging Face Trainer, eğitim ve değerlendirme süreçlerini yönetmek için özel bir veri collator ve modelin dahili işlemcisini kullanarak başlatılacak. Son olarak, eğitim tamamlandıktan sonra modelin performansı bir test veriseti üzerinde değerlendirilecek ve doğruluk gibi metrikler yazdırılarak modelin başarısı değerlendirilecek.  \n",
    "\n",
    "İlk olarak, modelimizi çağırıyoruz.  \n"
   ]
  },
  {
   "cell_type": "code",
   "execution_count": 19,
   "id": "97d0b588-3e41-4852-9307-9e2ec7d5bb0b",
   "metadata": {},
   "outputs": [
    {
     "name": "stderr",
     "output_type": "stream",
     "text": [
      "Some weights of ViTForImageClassification were not initialized from the model checkpoint at google/vit-large-patch16-224 and are newly initialized because the shapes did not match:\n",
      "- classifier.weight: found shape torch.Size([1000, 1024]) in the checkpoint and torch.Size([3, 1024]) in the model instantiated\n",
      "- classifier.bias: found shape torch.Size([1000]) in the checkpoint and torch.Size([3]) in the model instantiated\n",
      "You should probably TRAIN this model on a down-stream task to be able to use it for predictions and inference.\n"
     ]
    }
   ],
   "source": [
    "from transformers import ViTForImageClassification\n",
    "\n",
    "model = ViTForImageClassification.from_pretrained(model_name, id2label=id2label, label2id=label2id, ignore_mismatched_sizes=True)"
   ]
  },
  {
   "cell_type": "markdown",
   "id": "2f773e18-63e8-41bd-885f-7ba95d074a3d",
   "metadata": {},
   "source": [
    "Burada önemli bir detay var: `ignore_mismatched_sizes` parametresi.  \n",
    "\n",
    "Önceden eğitilmiş bir modeli yeni bir veriseti üzerinde fine-tune ederken, bazen görüntülerin giriş boyutu veya model mimarisi özellikleri (örneğin, sınıflandırma katmanındaki etiket sayısı) modelin başlangıçta eğitildiği yapı ile tam olarak uyuşmayabilir. Bu durum, genellikle ImageNet gibi doğal görüntüler üzerinde eğitilmiş bir modeli, tıbbi görüntüler veya özel kamera görüntüleri gibi tamamen farklı bir görüntü verisetine uygularken ortaya çıkar.  \n",
    "\n",
    "`ignore_mismatched_sizes` parametresini `True` olarak ayarlamak, modelin boyut farklılıklarına uyum sağlamasına ve hata oluşturmadan katmanlarını ayarlamasına olanak tanır.  \n",
    "\n",
    "Örneğin, bu model 1000 sınıf üzerinde eğitilmiştir ve `torch.Size([1000])` boyutunda bir giriş bekler. Verisetimiz ise 3 sınıfa sahiptir ve bu `torch.Size([3])` boyutundadır. Eğer bunu doğrudan modele verirsek, sınıf sayıları eşleşmediği için bir hata alırız.  "
   ]
  },
  {
   "cell_type": "markdown",
   "id": "e2c671bf-9978-46d8-82ef-0906d4e89d03",
   "metadata": {},
   "source": [
    "Sonrasında, bu model için Google tarafından sağlanan eğitim argümanlarını tanımlayacağız."
   ]
  },
  {
   "cell_type": "markdown",
   "id": "d473af8a-4070-48d7-aecb-1a5a90f0b63f",
   "metadata": {},
   "source": [
    "(Opsiyonel) `report_to` parametresini `wandb` olarak ayarladığımız için metrikler Weights & Biases'te kaydedilecektir. W&B sizden bir API anahtarı isteyecek, bu yüzden bir hesap oluşturmalı ve API anahtarı almalısınız. Eğer istemiyorsanız, `report_to` parametresini kaldırabilirsiniz."
   ]
  },
  {
   "cell_type": "code",
   "execution_count": 22,
   "id": "f16fc568-9fdc-4c60-acec-6ed3dbb85aef",
   "metadata": {},
   "outputs": [],
   "source": [
    "from transformers import TrainingArguments, Trainer\n",
    "import numpy as np\n",
    "\n",
    "train_args = TrainingArguments(\n",
    "    output_dir = \"output-models\",\n",
    "    save_total_limit=2,\n",
    "    report_to=\"wandb\",\n",
    "    save_strategy=\"epoch\",\n",
    "    evaluation_strategy=\"epoch\",\n",
    "    learning_rate=2e-5,\n",
    "    per_device_train_batch_size=10,\n",
    "    per_device_eval_batch_size=4,\n",
    "    num_train_epochs=40,\n",
    "    weight_decay=0.01,\n",
    "    load_best_model_at_end=True,\n",
    "    logging_dir='logs',\n",
    "    remove_unused_columns=False,\n",
    ")"
   ]
  },
  {
   "cell_type": "markdown",
   "id": "f74d4457-49fd-4e1b-9842-a3759ec524c9",
   "metadata": {},
   "source": [
    "Artık `Trainer` ile fine-tuning sürecine başlayabiliriz."
   ]
  },
  {
   "cell_type": "code",
   "execution_count": 23,
   "id": "5a117d62-9054-4e14-b7b2-0703de17a741",
   "metadata": {},
   "outputs": [
    {
     "data": {
      "text/html": [
       "\n",
       "    <div>\n",
       "      \n",
       "      <progress value='1880' max='1880' style='width:300px; height:20px; vertical-align: middle;'></progress>\n",
       "      [1880/1880 16:42, Epoch 40/40]\n",
       "    </div>\n",
       "    <table border=\"1\" class=\"dataframe\">\n",
       "  <thead>\n",
       " <tr style=\"text-align: left;\">\n",
       "      <th>Epoch</th>\n",
       "      <th>Training Loss</th>\n",
       "      <th>Validation Loss</th>\n",
       "    </tr>\n",
       "  </thead>\n",
       "  <tbody>\n",
       "    <tr>\n",
       "      <td>1</td>\n",
       "      <td>No log</td>\n",
       "      <td>0.428426</td>\n",
       "    </tr>\n",
       "    <tr>\n",
       "      <td>2</td>\n",
       "      <td>No log</td>\n",
       "      <td>0.394955</td>\n",
       "    </tr>\n",
       "    <tr>\n",
       "      <td>3</td>\n",
       "      <td>No log</td>\n",
       "      <td>0.370801</td>\n",
       "    </tr>\n",
       "    <tr>\n",
       "      <td>4</td>\n",
       "      <td>No log</td>\n",
       "      <td>0.364052</td>\n",
       "    </tr>\n",
       "    <tr>\n",
       "      <td>5</td>\n",
       "      <td>No log</td>\n",
       "      <td>0.427605</td>\n",
       "    </tr>\n",
       "    <tr>\n",
       "      <td>6</td>\n",
       "      <td>No log</td>\n",
       "      <td>0.441180</td>\n",
       "    </tr>\n",
       "    <tr>\n",
       "      <td>7</td>\n",
       "      <td>No log</td>\n",
       "      <td>0.377579</td>\n",
       "    </tr>\n",
       "    <tr>\n",
       "      <td>8</td>\n",
       "      <td>No log</td>\n",
       "      <td>0.387463</td>\n",
       "    </tr>\n",
       "    <tr>\n",
       "      <td>9</td>\n",
       "      <td>No log</td>\n",
       "      <td>0.380499</td>\n",
       "    </tr>\n",
       "    <tr>\n",
       "      <td>10</td>\n",
       "      <td>No log</td>\n",
       "      <td>0.346761</td>\n",
       "    </tr>\n",
       "    <tr>\n",
       "      <td>11</td>\n",
       "      <td>0.390300</td>\n",
       "      <td>0.469292</td>\n",
       "    </tr>\n",
       "    <tr>\n",
       "      <td>12</td>\n",
       "      <td>0.390300</td>\n",
       "      <td>0.389932</td>\n",
       "    </tr>\n",
       "    <tr>\n",
       "      <td>13</td>\n",
       "      <td>0.390300</td>\n",
       "      <td>0.435536</td>\n",
       "    </tr>\n",
       "    <tr>\n",
       "      <td>14</td>\n",
       "      <td>0.390300</td>\n",
       "      <td>0.296190</td>\n",
       "    </tr>\n",
       "    <tr>\n",
       "      <td>15</td>\n",
       "      <td>0.390300</td>\n",
       "      <td>0.436435</td>\n",
       "    </tr>\n",
       "    <tr>\n",
       "      <td>16</td>\n",
       "      <td>0.390300</td>\n",
       "      <td>0.446079</td>\n",
       "    </tr>\n",
       "    <tr>\n",
       "      <td>17</td>\n",
       "      <td>0.390300</td>\n",
       "      <td>0.577235</td>\n",
       "    </tr>\n",
       "    <tr>\n",
       "      <td>18</td>\n",
       "      <td>0.390300</td>\n",
       "      <td>0.401280</td>\n",
       "    </tr>\n",
       "    <tr>\n",
       "      <td>19</td>\n",
       "      <td>0.390300</td>\n",
       "      <td>0.501154</td>\n",
       "    </tr>\n",
       "    <tr>\n",
       "      <td>20</td>\n",
       "      <td>0.390300</td>\n",
       "      <td>0.490980</td>\n",
       "    </tr>\n",
       "    <tr>\n",
       "      <td>21</td>\n",
       "      <td>0.390300</td>\n",
       "      <td>0.458035</td>\n",
       "    </tr>\n",
       "    <tr>\n",
       "      <td>22</td>\n",
       "      <td>0.238200</td>\n",
       "      <td>0.426354</td>\n",
       "    </tr>\n",
       "    <tr>\n",
       "      <td>23</td>\n",
       "      <td>0.238200</td>\n",
       "      <td>0.411909</td>\n",
       "    </tr>\n",
       "    <tr>\n",
       "      <td>24</td>\n",
       "      <td>0.238200</td>\n",
       "      <td>0.435578</td>\n",
       "    </tr>\n",
       "    <tr>\n",
       "      <td>25</td>\n",
       "      <td>0.238200</td>\n",
       "      <td>0.430924</td>\n",
       "    </tr>\n",
       "    <tr>\n",
       "      <td>26</td>\n",
       "      <td>0.238200</td>\n",
       "      <td>0.498050</td>\n",
       "    </tr>\n",
       "    <tr>\n",
       "      <td>27</td>\n",
       "      <td>0.238200</td>\n",
       "      <td>0.501461</td>\n",
       "    </tr>\n",
       "    <tr>\n",
       "      <td>28</td>\n",
       "      <td>0.238200</td>\n",
       "      <td>0.559837</td>\n",
       "    </tr>\n",
       "    <tr>\n",
       "      <td>29</td>\n",
       "      <td>0.238200</td>\n",
       "      <td>0.420119</td>\n",
       "    </tr>\n",
       "    <tr>\n",
       "      <td>30</td>\n",
       "      <td>0.238200</td>\n",
       "      <td>0.416809</td>\n",
       "    </tr>\n",
       "    <tr>\n",
       "      <td>31</td>\n",
       "      <td>0.238200</td>\n",
       "      <td>0.635555</td>\n",
       "    </tr>\n",
       "    <tr>\n",
       "      <td>32</td>\n",
       "      <td>0.163100</td>\n",
       "      <td>0.421264</td>\n",
       "    </tr>\n",
       "    <tr>\n",
       "      <td>33</td>\n",
       "      <td>0.163100</td>\n",
       "      <td>0.445050</td>\n",
       "    </tr>\n",
       "    <tr>\n",
       "      <td>34</td>\n",
       "      <td>0.163100</td>\n",
       "      <td>0.453854</td>\n",
       "    </tr>\n",
       "    <tr>\n",
       "      <td>35</td>\n",
       "      <td>0.163100</td>\n",
       "      <td>0.442983</td>\n",
       "    </tr>\n",
       "    <tr>\n",
       "      <td>36</td>\n",
       "      <td>0.163100</td>\n",
       "      <td>0.432370</td>\n",
       "    </tr>\n",
       "    <tr>\n",
       "      <td>37</td>\n",
       "      <td>0.163100</td>\n",
       "      <td>0.442086</td>\n",
       "    </tr>\n",
       "    <tr>\n",
       "      <td>38</td>\n",
       "      <td>0.163100</td>\n",
       "      <td>0.478380</td>\n",
       "    </tr>\n",
       "    <tr>\n",
       "      <td>39</td>\n",
       "      <td>0.163100</td>\n",
       "      <td>0.477927</td>\n",
       "    </tr>\n",
       "    <tr>\n",
       "      <td>40</td>\n",
       "      <td>0.163100</td>\n",
       "      <td>0.479882</td>\n",
       "    </tr>\n",
       "  </tbody>\n",
       "</table><p>"
      ],
      "text/plain": [
       "<IPython.core.display.HTML object>"
      ]
     },
     "metadata": {},
     "output_type": "display_data"
    },
    {
     "data": {
      "text/plain": [
       "TrainOutput(global_step=1880, training_loss=0.23721330723863968, metrics={'train_runtime': 1003.2398, 'train_samples_per_second': 18.66, 'train_steps_per_second': 1.874, 'total_flos': 5.128065177052447e+18, 'train_loss': 0.23721330723863968, 'epoch': 40.0})"
      ]
     },
     "execution_count": 23,
     "metadata": {},
     "output_type": "execute_result"
    }
   ],
   "source": [
    "trainer = Trainer(\n",
    "    model,\n",
    "    train_args,\n",
    "    train_dataset=train_ds,\n",
    "    eval_dataset=val_ds,\n",
    "    data_collator=collate_fn,\n",
    "    tokenizer=processor,\n",
    ")\n",
    "trainer.train()"
   ]
  },
  {
   "cell_type": "markdown",
   "id": "e154fd79-1de7-4169-a6af-402b12881042",
   "metadata": {},
   "source": [
    "| Epoch | Eğitim Kaybı  | Doğrulama Kaybı | Doğruluk  |  \n",
    "|-------|---------------|-----------------|-----------|  \n",
    "| 40    | 0.174700      | 0.596288        | 0.903846  |  \n",
    "\n",
    "Fine-tuning süreci tamamlandı. Şimdi, modeli test verisetinde değerlendirmeye devam edelim.  "
   ]
  },
  {
   "cell_type": "code",
   "execution_count": 24,
   "id": "c19b6d99-0a89-45ac-a6d9-ec3e79edc041",
   "metadata": {},
   "outputs": [
    {
     "data": {
      "text/html": [],
      "text/plain": [
       "<IPython.core.display.HTML object>"
      ]
     },
     "metadata": {},
     "output_type": "display_data"
    },
    {
     "name": "stdout",
     "output_type": "stream",
     "text": [
      "{'test_loss': 0.40843912959098816, 'test_runtime': 4.9934, 'test_samples_per_second': 31.242, 'test_steps_per_second': 7.81}\n"
     ]
    }
   ],
   "source": [
    "outputs = trainer.predict(test_ds)\n",
    "print(outputs.metrics)"
   ]
  },
  {
   "cell_type": "markdown",
   "id": "2c4ddecb-7ab0-493e-90b9-44bf4e2a530e",
   "metadata": {},
   "source": [
    "`{'test_loss': 0.3219967782497406, 'test_accuracy': 0.9102564102564102, 'test_runtime': 4.0543, 'test_samples_per_second': 38.478, 'test_steps_per_second': 9.619}`"
   ]
  },
  {
   "cell_type": "markdown",
   "id": "0be50a0b",
   "metadata": {},
   "source": [
    "### (Opsiyonel) Modeli Hub'a Yükleme  \n",
    "Modelimizi `push_to_hub` fonksiyonunu kullanarak Hugging Face Hub'a yükleyebiliriz.  "
   ]
  },
  {
   "cell_type": "code",
   "execution_count": null,
   "id": "f1d55e6a",
   "metadata": {},
   "outputs": [],
   "source": [
    "model.push_to_hub(\"your_model_name\")"
   ]
  },
  {
   "cell_type": "markdown",
   "id": "5f74c058-e2a5-4c9c-8d70-1c2c574b933f",
   "metadata": {},
   "source": [
    "## Sonuçlar  \n",
    "Fine-tuning işlemini tamamladık. Şimdi, modelimizin sınıfları nasıl tahmin ettiğini görelim. Bunun için scikit-learn'ün Confusion Matrix Display fonksiyonunu kullanarak Confusion Matrix'i görselleştirecek ve Recall Skoru göstereceğiz.  "
   ]
  },
  {
   "cell_type": "markdown",
   "id": "ade5321d-ff63-4308-8317-d1e4da2219df",
   "metadata": {},
   "source": [
    "### Confusion Matrix Nedir?  \n",
    "Confusion Matrix, bir algoritmanın, genellikle bir denetimli öğrenme modelinin, gerçek değerlerin bilindiği bir test veriseti üzerindeki performansını görselleştirmeye olanak tanıyan belirli bir tablo düzenidir. Özellikle bir sınıflandırma modelinin ne kadar iyi performans gösterdiğini kontrol etmek için kullanışlıdır, çünkü gerçek ve tahmin edilen etiketlerin sıklığını gösterir.  \n",
    "\n",
    "Hadi, modelimizin Confusion Matrix'ini çizelim.  \n"
   ]
  },
  {
   "cell_type": "code",
   "execution_count": 25,
   "id": "8efb0ece-92b3-498d-b47b-0f9c04d4ebb8",
   "metadata": {},
   "outputs": [
    {
     "data": {
      "text/plain": [
       "<sklearn.metrics._plot.confusion_matrix.ConfusionMatrixDisplay at 0x7f44b1f289a0>"
      ]
     },
     "execution_count": 25,
     "metadata": {},
     "output_type": "execute_result"
    },
    {
     "data": {
      "image/png": "[encoded data removed]",
      "text/plain": [
       "<Figure size 640x480 with 2 Axes>"
      ]
     },
     "metadata": {},
     "output_type": "display_data"
    }
   ],
   "source": [
    "from sklearn.metrics import confusion_matrix, ConfusionMatrixDisplay\n",
    "\n",
    "y_true = outputs.label_ids\n",
    "y_pred = outputs.predictions.argmax(1)\n",
    "\n",
    "labels = train_ds.features['label'].names\n",
    "cm = confusion_matrix(y_true, y_pred)\n",
    "disp = ConfusionMatrixDisplay(confusion_matrix=cm, display_labels=labels)\n",
    "disp.plot(xticks_rotation=45)"
   ]
  },
  {
   "cell_type": "markdown",
   "id": "9178d2d1-b828-45a6-8873-039abc0419c2",
   "metadata": {},
   "source": [
    "### Recall Skoru Nedir?  \n",
    "Recall skoru, sınıflandırma görevlerinde kullanılan bir performans metriğidir ve bir modelin bir veriseti içindeki tüm ilgili örnekleri doğru bir şekilde tanımlama yeteneğini ölçer. Özellikle recall, gerçek pozitiflerin model tarafından doğru bir şekilde pozitif olarak tahmin edilen oranını değerlendirir.\n",
    "\n",
    "Hadi, scikit-learn kullanarak recall skorlarını yazdıralım. "
   ]
  },
  {
   "cell_type": "code",
   "execution_count": 27,
   "id": "48d87ca7-8458-41d5-a773-38e2c9522f64",
   "metadata": {},
   "outputs": [
    {
     "name": "stdout",
     "output_type": "stream",
     "text": [
      "Recall for benign: 0.90\n",
      "Recall for malignant: 0.86\n",
      "Recall for normal: 0.78\n"
     ]
    }
   ],
   "source": [
    "from sklearn.metrics import recall_score\n",
    "\n",
    "# Calculate the recall scores\n",
    "# 'None' calculates recall for each class separately\n",
    "recall = recall_score(y_true, y_pred, average=None)\n",
    "\n",
    "# Print the recall for each class\n",
    "for label, score in zip(labels, recall):\n",
    "    print(f'Recall for {label}: {score:.2f}')\n"
   ]
  },
  {
   "cell_type": "markdown",
   "id": "c8b1a1b1-7de4-4eb6-98bf-de87e8cbbcec",
   "metadata": {},
   "source": [
    "`Recall for benign: 0.90,\n",
    "Recall for malignant: 0.86,\n",
    "Recall for normal: 0.78`"
   ]
  },
  {
   "cell_type": "markdown",
   "id": "67b76567-039d-467b-9cfc-0837fb3e1a1b",
   "metadata": {},
   "source": [
    "## Sonuç  \n",
    "Bu cookbook'ta, bir ViT modelini bir tıbbi verisetiyle nasıl eğiteceğimizi ele aldık. Veriseti hazırlığı, görüntü ön işleme, model yapılandırması, eğitim, değerlendirme ve sonuçların görselleştirilmesi gibi önemli adımları kapsadık. Hugging Face'in Transformers kütüphanesi, scikit-learn ve PyTorch Torchvision'u kullanarak, verimli model eğitimi ve değerlendirme süreçlerini kolaylaştırdık. Bu süreç, modelin performansı ve biyomedikal görüntüleri doğru şekilde sınıflandırma yeteneği hakkında değerli bilgiler sunmaktadır."
   ]
  }
 ],
 "metadata": {
  "kernelspec": {
   "display_name": "Python 3 (ipykernel)",
   "language": "python",
   "name": "python3"
  },
  "language_info": {
   "codemirror_mode": {
    "name": "ipython",
    "version": 3
   },
   "file_extension": ".py",
   "mimetype": "text/x-python",
   "name": "python",
   "nbconvert_exporter": "python",
   "pygments_lexer": "ipython3",
   "version": "3.11.10"
  }
 },
 "nbformat": 4,
 "nbformat_minor": 5
}
